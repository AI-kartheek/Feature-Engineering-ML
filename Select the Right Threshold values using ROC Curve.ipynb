{
 "cells": [
  {
   "cell_type": "markdown",
   "metadata": {},
   "source": [
    "### Select the Right Threshold values using ROC Curve"
   ]
  },
  {
   "cell_type": "markdown",
   "metadata": {},
   "source": [
    "* **ROC** used for ``Binary`` Classification But **not** used for ``Multiclass`` Classification."
   ]
  },
  {
   "cell_type": "markdown",
   "metadata": {},
   "source": [
    "* correct Thresold values depend on the ``ROC Curve`` and ``accuracy`` of our model."
   ]
  },
  {
   "cell_type": "code",
   "execution_count": 1,
   "metadata": {},
   "outputs": [],
   "source": [
    "import numpy as np\n",
    "import pandas as pd\n",
    "import matplotlib.pyplot as plt\n",
    "%matplotlib inline\n",
    "import seaborn as sns\n",
    "# roc curve and auc score\n",
    "from sklearn.datasets import make_classification\n",
    "\n",
    "\n"
   ]
  },
  {
   "cell_type": "code",
   "execution_count": 2,
   "metadata": {},
   "outputs": [],
   "source": [
    "from sklearn.model_selection import train_test_split\n",
    "X, y = make_classification(n_samples=2000, n_classes=2, weights=[1,1], random_state=1)"
   ]
  },
  {
   "cell_type": "code",
   "execution_count": 3,
   "metadata": {},
   "outputs": [
    {
     "data": {
      "text/plain": [
       "(2000, 20)"
      ]
     },
     "execution_count": 3,
     "metadata": {},
     "output_type": "execute_result"
    }
   ],
   "source": [
    "X.shape"
   ]
  },
  {
   "cell_type": "code",
   "execution_count": 4,
   "metadata": {},
   "outputs": [
    {
     "data": {
      "text/plain": [
       "array([0, 0, 0, ..., 1, 1, 0])"
      ]
     },
     "execution_count": 4,
     "metadata": {},
     "output_type": "execute_result"
    }
   ],
   "source": [
    "y"
   ]
  },
  {
   "cell_type": "code",
   "execution_count": 5,
   "metadata": {},
   "outputs": [],
   "source": [
    "from sklearn.model_selection import train_test_split\n",
    "\n",
    "X_train,X_test,y_train,y_test = train_test_split(X, y, test_size=0.3, random_state=1)"
   ]
  },
  {
   "cell_type": "code",
   "execution_count": 6,
   "metadata": {},
   "outputs": [],
   "source": [
    "from sklearn.metrics import roc_curve\n",
    "from sklearn.metrics import roc_auc_score"
   ]
  },
  {
   "cell_type": "markdown",
   "metadata": {},
   "source": [
    "#### Random Forests"
   ]
  },
  {
   "cell_type": "code",
   "execution_count": 7,
   "metadata": {},
   "outputs": [
    {
     "name": "stdout",
     "output_type": "stream",
     "text": [
      "RF train roc-auc: 1.0\n",
      "RF test roc-auc: 0.9812500000000001\n"
     ]
    }
   ],
   "source": [
    "## Apply RandomForestClassifier\n",
    "from sklearn.ensemble import RandomForestClassifier\n",
    "rf_model = RandomForestClassifier()\n",
    "rf_model.fit(X_train, y_train)\n",
    "ytrain_pred = rf_model.predict_proba(X_train)\n",
    "print('RF train roc-auc: {}'.format(roc_auc_score(y_train, ytrain_pred[:,1])))\n",
    "ytest_pred = rf_model.predict_proba(X_test)\n",
    "print('RF test roc-auc: {}'.format(roc_auc_score(y_test, ytest_pred[:,1])))"
   ]
  },
  {
   "cell_type": "code",
   "execution_count": 8,
   "metadata": {},
   "outputs": [
    {
     "data": {
      "text/plain": [
       "array([[1.  , 0.  ],\n",
       "       [0.97, 0.03],\n",
       "       [0.  , 1.  ],\n",
       "       ...,\n",
       "       [0.96, 0.04],\n",
       "       [1.  , 0.  ],\n",
       "       [0.22, 0.78]])"
      ]
     },
     "execution_count": 8,
     "metadata": {},
     "output_type": "execute_result"
    }
   ],
   "source": [
    "ytrain_pred\n",
    "#probablity of 0 and 1....."
   ]
  },
  {
   "cell_type": "markdown",
   "metadata": {},
   "source": [
    "**roc_auc_score** : Compute the ``area`` under the ``ROC`` curve"
   ]
  },
  {
   "cell_type": "markdown",
   "metadata": {},
   "source": [
    "#### Logistic Regression"
   ]
  },
  {
   "cell_type": "code",
   "execution_count": 9,
   "metadata": {},
   "outputs": [
    {
     "name": "stdout",
     "output_type": "stream",
     "text": [
      "Logistic train roc-auc: 0.9863568922694498\n",
      "Logistic test roc-auc: 0.9885777777777777\n"
     ]
    }
   ],
   "source": [
    "from sklearn.linear_model import LogisticRegression\n",
    "log_classifier=LogisticRegression()\n",
    "log_classifier.fit(X_train, y_train)\n",
    "ytrain_pred = log_classifier.predict_proba(X_train)\n",
    "print('Logistic train roc-auc: {}'.format(roc_auc_score(y_train, ytrain_pred[:,1])))\n",
    "ytest_pred = log_classifier.predict_proba(X_test)\n",
    "print('Logistic test roc-auc: {}'.format(roc_auc_score(y_test, ytest_pred[:,1])))"
   ]
  },
  {
   "cell_type": "markdown",
   "metadata": {},
   "source": [
    "#### Adaboost Classifier"
   ]
  },
  {
   "cell_type": "code",
   "execution_count": 10,
   "metadata": {},
   "outputs": [
    {
     "name": "stdout",
     "output_type": "stream",
     "text": [
      "Adaboost train roc-auc: 0.9975081174960356\n",
      "Adaboost test roc-auc: 0.9826111111111111\n"
     ]
    }
   ],
   "source": [
    "from sklearn.ensemble import AdaBoostClassifier\n",
    "ada_classifier=AdaBoostClassifier()\n",
    "ada_classifier.fit(X_train, y_train)\n",
    "ytrain_pred = ada_classifier.predict_proba(X_train)\n",
    "print('Adaboost train roc-auc: {}'.format(roc_auc_score(y_train, ytrain_pred[:,1])))\n",
    "ytest_pred = ada_classifier.predict_proba(X_test)\n",
    "print('Adaboost test roc-auc: {}'.format(roc_auc_score(y_test, ytest_pred[:,1])))"
   ]
  },
  {
   "cell_type": "markdown",
   "metadata": {},
   "source": [
    "#### KNNClassifier"
   ]
  },
  {
   "cell_type": "code",
   "execution_count": 11,
   "metadata": {},
   "outputs": [
    {
     "name": "stdout",
     "output_type": "stream",
     "text": [
      "Adaboost train roc-auc: 0.981670071491109\n",
      "Adaboost test roc-auc: 0.9426111111111111\n"
     ]
    }
   ],
   "source": [
    "from sklearn.neighbors import KNeighborsClassifier\n",
    "knn_classifier=KNeighborsClassifier()\n",
    "knn_classifier.fit(X_train, y_train)\n",
    "ytrain_pred = knn_classifier.predict_proba(X_train)\n",
    "print('Adaboost train roc-auc: {}'.format(roc_auc_score(y_train, ytrain_pred[:,1])))\n",
    "ytest_pred = knn_classifier.predict_proba(X_test)\n",
    "print('Adaboost test roc-auc: {}'.format(roc_auc_score(y_test, ytest_pred[:,1])))"
   ]
  },
  {
   "cell_type": "markdown",
   "metadata": {},
   "source": [
    "## Now we will focus on selecting the best threshold for maximum accuracy"
   ]
  },
  {
   "cell_type": "code",
   "execution_count": 12,
   "metadata": {},
   "outputs": [
    {
     "name": "stdout",
     "output_type": "stream",
     "text": [
      "Ensemble test roc-auc: 0.9847444444444444\n"
     ]
    }
   ],
   "source": [
    "pred=[]\n",
    "for model in [rf_model,log_classifier,ada_classifier,knn_classifier]:\n",
    "    pred.append(pd.Series(model.predict_proba(X_test)[:,1]))\n",
    "    \n",
    "final_prediction = pd.concat(pred,axis=1).mean(axis=1)\n",
    "print('Ensemble test roc-auc: {}'.format(roc_auc_score(y_test,final_prediction)))"
   ]
  },
  {
   "cell_type": "code",
   "execution_count": 13,
   "metadata": {},
   "outputs": [
    {
     "data": {
      "text/plain": [
       "[0      1.00\n",
       " 1      0.00\n",
       " 2      0.98\n",
       " 3      0.91\n",
       " 4      0.50\n",
       "        ... \n",
       " 595    0.00\n",
       " 596    0.00\n",
       " 597    1.00\n",
       " 598    0.02\n",
       " 599    0.99\n",
       " Length: 600, dtype: float64,\n",
       " 0      0.991861\n",
       " 1      0.000008\n",
       " 2      0.966929\n",
       " 3      0.761539\n",
       " 4      0.779443\n",
       "          ...   \n",
       " 595    0.024239\n",
       " 596    0.000003\n",
       " 597    0.984385\n",
       " 598    0.001147\n",
       " 599    0.989540\n",
       " Length: 600, dtype: float64,\n",
       " 0      0.559186\n",
       " 1      0.463282\n",
       " 2      0.538202\n",
       " 3      0.509875\n",
       " 4      0.490344\n",
       "          ...   \n",
       " 595    0.461121\n",
       " 596    0.441377\n",
       " 597    0.532403\n",
       " 598    0.441720\n",
       " 599    0.559890\n",
       " Length: 600, dtype: float64,\n",
       " 0      1.0\n",
       " 1      0.0\n",
       " 2      0.8\n",
       " 3      0.8\n",
       " 4      0.4\n",
       "       ... \n",
       " 595    0.0\n",
       " 596    0.0\n",
       " 597    1.0\n",
       " 598    0.2\n",
       " 599    0.8\n",
       " Length: 600, dtype: float64]"
      ]
     },
     "execution_count": 13,
     "metadata": {},
     "output_type": "execute_result"
    }
   ],
   "source": [
    "pred"
   ]
  },
  {
   "cell_type": "code",
   "execution_count": 18,
   "metadata": {},
   "outputs": [
    {
     "data": {
      "text/html": [
       "<div>\n",
       "<style scoped>\n",
       "    .dataframe tbody tr th:only-of-type {\n",
       "        vertical-align: middle;\n",
       "    }\n",
       "\n",
       "    .dataframe tbody tr th {\n",
       "        vertical-align: top;\n",
       "    }\n",
       "\n",
       "    .dataframe thead th {\n",
       "        text-align: right;\n",
       "    }\n",
       "</style>\n",
       "<table border=\"1\" class=\"dataframe\">\n",
       "  <thead>\n",
       "    <tr style=\"text-align: right;\">\n",
       "      <th></th>\n",
       "      <th>0</th>\n",
       "      <th>1</th>\n",
       "      <th>2</th>\n",
       "      <th>3</th>\n",
       "    </tr>\n",
       "  </thead>\n",
       "  <tbody>\n",
       "    <tr>\n",
       "      <th>0</th>\n",
       "      <td>1.00</td>\n",
       "      <td>0.991861</td>\n",
       "      <td>0.559186</td>\n",
       "      <td>1.0</td>\n",
       "    </tr>\n",
       "    <tr>\n",
       "      <th>1</th>\n",
       "      <td>0.00</td>\n",
       "      <td>0.000008</td>\n",
       "      <td>0.463282</td>\n",
       "      <td>0.0</td>\n",
       "    </tr>\n",
       "    <tr>\n",
       "      <th>2</th>\n",
       "      <td>0.98</td>\n",
       "      <td>0.966929</td>\n",
       "      <td>0.538202</td>\n",
       "      <td>0.8</td>\n",
       "    </tr>\n",
       "    <tr>\n",
       "      <th>3</th>\n",
       "      <td>0.91</td>\n",
       "      <td>0.761539</td>\n",
       "      <td>0.509875</td>\n",
       "      <td>0.8</td>\n",
       "    </tr>\n",
       "    <tr>\n",
       "      <th>4</th>\n",
       "      <td>0.50</td>\n",
       "      <td>0.779443</td>\n",
       "      <td>0.490344</td>\n",
       "      <td>0.4</td>\n",
       "    </tr>\n",
       "    <tr>\n",
       "      <th>...</th>\n",
       "      <td>...</td>\n",
       "      <td>...</td>\n",
       "      <td>...</td>\n",
       "      <td>...</td>\n",
       "    </tr>\n",
       "    <tr>\n",
       "      <th>595</th>\n",
       "      <td>0.00</td>\n",
       "      <td>0.024239</td>\n",
       "      <td>0.461121</td>\n",
       "      <td>0.0</td>\n",
       "    </tr>\n",
       "    <tr>\n",
       "      <th>596</th>\n",
       "      <td>0.00</td>\n",
       "      <td>0.000003</td>\n",
       "      <td>0.441377</td>\n",
       "      <td>0.0</td>\n",
       "    </tr>\n",
       "    <tr>\n",
       "      <th>597</th>\n",
       "      <td>1.00</td>\n",
       "      <td>0.984385</td>\n",
       "      <td>0.532403</td>\n",
       "      <td>1.0</td>\n",
       "    </tr>\n",
       "    <tr>\n",
       "      <th>598</th>\n",
       "      <td>0.02</td>\n",
       "      <td>0.001147</td>\n",
       "      <td>0.441720</td>\n",
       "      <td>0.2</td>\n",
       "    </tr>\n",
       "    <tr>\n",
       "      <th>599</th>\n",
       "      <td>0.99</td>\n",
       "      <td>0.989540</td>\n",
       "      <td>0.559890</td>\n",
       "      <td>0.8</td>\n",
       "    </tr>\n",
       "  </tbody>\n",
       "</table>\n",
       "<p>600 rows × 4 columns</p>\n",
       "</div>"
      ],
      "text/plain": [
       "        0         1         2    3\n",
       "0    1.00  0.991861  0.559186  1.0\n",
       "1    0.00  0.000008  0.463282  0.0\n",
       "2    0.98  0.966929  0.538202  0.8\n",
       "3    0.91  0.761539  0.509875  0.8\n",
       "4    0.50  0.779443  0.490344  0.4\n",
       "..    ...       ...       ...  ...\n",
       "595  0.00  0.024239  0.461121  0.0\n",
       "596  0.00  0.000003  0.441377  0.0\n",
       "597  1.00  0.984385  0.532403  1.0\n",
       "598  0.02  0.001147  0.441720  0.2\n",
       "599  0.99  0.989540  0.559890  0.8\n",
       "\n",
       "[600 rows x 4 columns]"
      ]
     },
     "execution_count": 18,
     "metadata": {},
     "output_type": "execute_result"
    }
   ],
   "source": [
    "pd.concat(pred,axis=1)"
   ]
  },
  {
   "cell_type": "code",
   "execution_count": 41,
   "metadata": {},
   "outputs": [
    {
     "data": {
      "text/plain": [
       "0      0.880262\n",
       "1      0.115823\n",
       "2      0.826283\n",
       "3      0.740353\n",
       "4      0.572447\n",
       "         ...   \n",
       "595    0.121340\n",
       "596    0.115345\n",
       "597    0.876697\n",
       "598    0.160717\n",
       "599    0.834857\n",
       "Length: 600, dtype: float64"
      ]
     },
     "execution_count": 41,
     "metadata": {},
     "output_type": "execute_result"
    }
   ],
   "source": [
    "final_prediction\n",
    "#it is the mean of all four columns for an each row."
   ]
  },
  {
   "cell_type": "markdown",
   "metadata": {},
   "source": [
    "#### Calculate the ROc Curve"
   ]
  },
  {
   "cell_type": "markdown",
   "metadata": {},
   "source": [
    "``ROC`` curve returns the ``False positve rate`` , ``true positive rate`` and ``thresolds``."
   ]
  },
  {
   "cell_type": "code",
   "execution_count": 16,
   "metadata": {},
   "outputs": [],
   "source": [
    "import numpy as np"
   ]
  },
  {
   "cell_type": "code",
   "execution_count": 29,
   "metadata": {},
   "outputs": [],
   "source": [
    "weight = np.linspace(0, 1,num=600 )"
   ]
  },
  {
   "cell_type": "code",
   "execution_count": 30,
   "metadata": {},
   "outputs": [
    {
     "data": {
      "text/plain": [
       "array([1.91123256, 0.91123256, 0.9109413 , 0.91077475, 0.90938114,\n",
       "       0.90822553, 0.90732118, 0.90728779, 0.90672166, 0.90280396,\n",
       "       0.90268409, 0.90217349, 0.90174686, 0.90156694, 0.9010034 ,\n",
       "       0.90072159, 0.90043872, 0.89258074, 0.89179164, 0.89019042,\n",
       "       0.89002641, 0.88908893, 0.88900935, 0.8884741 , 0.88776179,\n",
       "       0.88690228, 0.88671141, 0.88646892, 0.88567906, 0.8852299 ,\n",
       "       0.88504606, 0.88483936, 0.88437516, 0.88415382, 0.88411482,\n",
       "       0.88350509, 0.88324954, 0.88295851, 0.8828124 , 0.88215573,\n",
       "       0.88141991, 0.88129902, 0.88127253, 0.88099308, 0.88048896,\n",
       "       0.88038605, 0.87949391, 0.87946679, 0.87919722, 0.87919192,\n",
       "       0.87805657, 0.87742245, 0.87714425, 0.87712611, 0.87681405,\n",
       "       0.87642893, 0.87624753, 0.87582732, 0.87539756, 0.87519096,\n",
       "       0.8751398 , 0.87463516, 0.87451832, 0.87418561, 0.87349217,\n",
       "       0.87230885, 0.87203764, 0.87161489, 0.87120809, 0.87119267,\n",
       "       0.87096066, 0.86976367, 0.86875699, 0.86711894, 0.8670352 ,\n",
       "       0.86575384, 0.86554107, 0.86503792, 0.86494072, 0.86401548,\n",
       "       0.86392256, 0.86386405, 0.86325591, 0.8632041 , 0.86256923,\n",
       "       0.86251213, 0.8623958 , 0.86111381, 0.86059866, 0.86018844,\n",
       "       0.85757788, 0.85750692, 0.85596497, 0.85574745, 0.85564489,\n",
       "       0.85545651, 0.85542473, 0.85484197, 0.85402661, 0.8536608 ,\n",
       "       0.85356072, 0.85350693, 0.85325989, 0.8530886 , 0.85300485,\n",
       "       0.85290355, 0.85269541, 0.85014668, 0.84832086, 0.84753562,\n",
       "       0.84661321, 0.84465323, 0.84310494, 0.84179978, 0.83855092,\n",
       "       0.83815639, 0.83590352, 0.83539484, 0.83513199, 0.83485742,\n",
       "       0.83482235, 0.83444899, 0.83314606, 0.83290966, 0.83231455,\n",
       "       0.83184156, 0.83170704, 0.83135964, 0.82928763, 0.82915023,\n",
       "       0.82888793, 0.82880277, 0.82875745, 0.82795269, 0.82787487,\n",
       "       0.82784724, 0.82783087, 0.82742348, 0.82737853, 0.82631203,\n",
       "       0.82615479, 0.82604789, 0.82561722, 0.82558435, 0.82496406,\n",
       "       0.82489281, 0.82426802, 0.82420464, 0.82395633, 0.82379001,\n",
       "       0.82339239, 0.8232078 , 0.82255774, 0.82228341, 0.82202418,\n",
       "       0.82128281, 0.82115997, 0.82080575, 0.81977971, 0.81904168,\n",
       "       0.81876012, 0.81853999, 0.81804608, 0.81696108, 0.81695592,\n",
       "       0.81680157, 0.81532099, 0.81519046, 0.81457397, 0.81389369,\n",
       "       0.81360325, 0.81336092, 0.81297999, 0.81290617, 0.81285837,\n",
       "       0.81241659, 0.81198866, 0.8118603 , 0.81083537, 0.81012555,\n",
       "       0.80993823, 0.80989711, 0.80930204, 0.80897662, 0.80827409,\n",
       "       0.80790031, 0.80773914, 0.80546097, 0.80537052, 0.80384271,\n",
       "       0.80306516, 0.80061406, 0.80051733, 0.79975303, 0.79957612,\n",
       "       0.79949934, 0.7980558 , 0.79567698, 0.79452438, 0.79260088,\n",
       "       0.7919465 , 0.79130736, 0.7905287 , 0.79047465, 0.78912833,\n",
       "       0.78881489, 0.78877646, 0.78498136, 0.78485188, 0.78409273,\n",
       "       0.78387064, 0.78347738, 0.78321156, 0.78140513, 0.77925879,\n",
       "       0.77923524, 0.77799847, 0.77797605, 0.77514532, 0.77469585,\n",
       "       0.77287124, 0.77242916, 0.76882008, 0.76691919, 0.76488614,\n",
       "       0.76474465, 0.76320853, 0.76124415, 0.7608411 , 0.75836354,\n",
       "       0.75641018, 0.75553202, 0.75446856, 0.7530306 , 0.75295305,\n",
       "       0.75245214, 0.75223392, 0.75071832, 0.75015102, 0.74947934,\n",
       "       0.74935853, 0.74864847, 0.74739742, 0.74535339, 0.7441922 ,\n",
       "       0.73619595, 0.73526402, 0.73525211, 0.73430851, 0.73254822,\n",
       "       0.72925756, 0.72907482, 0.72902563, 0.72729835, 0.72710041,\n",
       "       0.72458108, 0.72378988, 0.72097576, 0.71975181, 0.71951656,\n",
       "       0.71893711, 0.71847083, 0.71845844, 0.71637362, 0.70544088,\n",
       "       0.70499037, 0.70221721, 0.70171544, 0.70075746, 0.69518151,\n",
       "       0.69513034, 0.68351868, 0.67788086, 0.67692282, 0.67397732,\n",
       "       0.67006113, 0.66743537, 0.6642442 , 0.65787883, 0.62866701,\n",
       "       0.62707293, 0.61529968, 0.61244697, 0.61212652, 0.60988185,\n",
       "       0.60146627, 0.60114346, 0.5940152 , 0.59236186, 0.58995356,\n",
       "       0.58425354, 0.5821569 , 0.56649047, 0.56550386, 0.56406376,\n",
       "       0.56058969, 0.56042732, 0.55595371, 0.55588469, 0.55327749,\n",
       "       0.55139283, 0.54865858, 0.54244674, 0.53969563, 0.53605932,\n",
       "       0.52877948, 0.51116892, 0.47450602, 0.46669266, 0.46240225,\n",
       "       0.4421034 , 0.43036956, 0.42972765, 0.42186151, 0.42044916,\n",
       "       0.41591982, 0.39464628, 0.39340767, 0.39318654, 0.39264281,\n",
       "       0.39129719, 0.38905357, 0.38420009, 0.37475652, 0.36557343,\n",
       "       0.36433098, 0.36184818, 0.35518074, 0.35386723, 0.35245613,\n",
       "       0.34836612, 0.34562235, 0.33611558, 0.32747682, 0.32081772,\n",
       "       0.31112762, 0.3086028 , 0.30487668, 0.30050432, 0.30029123,\n",
       "       0.29686937, 0.29292367, 0.2921995 , 0.29153175, 0.28884085,\n",
       "       0.28763557, 0.28381281, 0.28284426, 0.28075123, 0.27935989,\n",
       "       0.27631501, 0.27560038, 0.27492127, 0.27208263, 0.26917805,\n",
       "       0.26625422, 0.26297016, 0.26197787, 0.26118663, 0.26083728,\n",
       "       0.25573004, 0.25430463, 0.24719741, 0.24651541, 0.24404122,\n",
       "       0.23849466, 0.23598126, 0.23467239, 0.2346341 , 0.23233682,\n",
       "       0.23140421, 0.23119003, 0.22948424, 0.2269954 , 0.22505139,\n",
       "       0.22491816, 0.22396893, 0.22142702, 0.22130678, 0.22088101,\n",
       "       0.21896234, 0.21790022, 0.21722207, 0.21627679, 0.21604662,\n",
       "       0.21245158, 0.21213088, 0.21207968, 0.21032943, 0.20852808,\n",
       "       0.20394743, 0.20348417, 0.20039681, 0.19991423, 0.19938001,\n",
       "       0.19666474, 0.19621233, 0.19077261, 0.19075206, 0.18923083,\n",
       "       0.18575937, 0.18531109, 0.18265908, 0.18173731, 0.18142339,\n",
       "       0.18125353, 0.18097991, 0.17960309, 0.17893416, 0.17855803,\n",
       "       0.17828731, 0.17748689, 0.17723146, 0.17637288, 0.17591179,\n",
       "       0.1755348 , 0.1745556 , 0.17437296, 0.17416348, 0.17411293,\n",
       "       0.17395087, 0.17333038, 0.17285421, 0.17267874, 0.17257815,\n",
       "       0.17217803, 0.17182107, 0.17179304, 0.17168733, 0.17067574,\n",
       "       0.17035654, 0.17034648, 0.16981538, 0.16974451, 0.1695869 ,\n",
       "       0.16942367, 0.16933913, 0.16823024, 0.16815234, 0.16714843,\n",
       "       0.16689131, 0.1668517 , 0.16682135, 0.1664729 , 0.16633096,\n",
       "       0.16611219, 0.16591918, 0.16571666, 0.16481221, 0.16480466,\n",
       "       0.16251532, 0.16066616, 0.15834787, 0.1571636 , 0.15493666,\n",
       "       0.14914144, 0.14585652, 0.14459241, 0.14301355, 0.14283083,\n",
       "       0.14018023, 0.13989332, 0.13889885, 0.13773082, 0.13602138,\n",
       "       0.13464122, 0.13408822, 0.13320662, 0.13178775, 0.13138785,\n",
       "       0.13070026, 0.1306704 , 0.12990082, 0.12926999, 0.12901355,\n",
       "       0.12895885, 0.12869242, 0.1283109 , 0.12825271, 0.12750129,\n",
       "       0.12633104, 0.126067  , 0.12583353, 0.12534108, 0.1253273 ,\n",
       "       0.12531208, 0.12493346, 0.12493014, 0.12483829, 0.12440004,\n",
       "       0.12407981, 0.12330526, 0.12301207, 0.12283548, 0.12271894,\n",
       "       0.1227139 , 0.12246768, 0.12246755, 0.12225249, 0.12173346,\n",
       "       0.12149204, 0.12133999, 0.12120317, 0.1211633 , 0.12115477,\n",
       "       0.12109215, 0.12103296, 0.12092441, 0.12084239, 0.1204749 ,\n",
       "       0.12019006, 0.12000853, 0.11995855, 0.11993402, 0.11990888,\n",
       "       0.11988743, 0.1197884 , 0.11946587, 0.1194421 , 0.11917624,\n",
       "       0.119016  , 0.11900605, 0.11889   , 0.11885399, 0.11884105,\n",
       "       0.11878064, 0.11838716, 0.11829733, 0.11824145, 0.11823896,\n",
       "       0.11812642, 0.11807604, 0.11803857, 0.11802718, 0.11795384,\n",
       "       0.11788782, 0.1178351 , 0.11782065, 0.11742943, 0.11724175,\n",
       "       0.11714387, 0.1169014 , 0.11681525, 0.11662573, 0.11655764,\n",
       "       0.11643294, 0.11634836, 0.11630988, 0.11625249, 0.11614026,\n",
       "       0.11604684, 0.11601837, 0.11582259, 0.11574529, 0.11559762,\n",
       "       0.11558973, 0.11558033, 0.11553605, 0.11553536, 0.11547404,\n",
       "       0.11546807, 0.11542275, 0.11541893, 0.11531759, 0.115086  ,\n",
       "       0.11507316, 0.11504027, 0.11499913, 0.11499696, 0.11497934,\n",
       "       0.11492929, 0.11491882, 0.11483913, 0.11479901, 0.11455013,\n",
       "       0.1144589 , 0.11427298, 0.11417506, 0.11412533, 0.11402014,\n",
       "       0.11373708, 0.1135267 , 0.11349812, 0.11341316, 0.11290921,\n",
       "       0.11282622, 0.1126282 , 0.11226499, 0.11195344, 0.11185778,\n",
       "       0.11148508, 0.11145766, 0.1113925 , 0.11125332, 0.11034501,\n",
       "       0.10998954, 0.10981763, 0.10926938, 0.10882697, 0.10780895,\n",
       "       0.10548439])"
      ]
     },
     "execution_count": 30,
     "metadata": {},
     "output_type": "execute_result"
    }
   ],
   "source": [
    "fpr, tpr, thresholds = roc_curve(y_test, final_prediction,sample_weight= weight)\n",
    "thresholds"
   ]
  },
  {
   "cell_type": "code",
   "execution_count": 23,
   "metadata": {},
   "outputs": [
    {
     "data": {
      "text/html": [
       "<div>\n",
       "<style scoped>\n",
       "    .dataframe tbody tr th:only-of-type {\n",
       "        vertical-align: middle;\n",
       "    }\n",
       "\n",
       "    .dataframe tbody tr th {\n",
       "        vertical-align: top;\n",
       "    }\n",
       "\n",
       "    .dataframe thead th {\n",
       "        text-align: right;\n",
       "    }\n",
       "</style>\n",
       "<table border=\"1\" class=\"dataframe\">\n",
       "  <thead>\n",
       "    <tr style=\"text-align: right;\">\n",
       "      <th></th>\n",
       "      <th>thresholds</th>\n",
       "      <th>accuracy</th>\n",
       "    </tr>\n",
       "  </thead>\n",
       "  <tbody>\n",
       "    <tr>\n",
       "      <th>311</th>\n",
       "      <td>0.430370</td>\n",
       "      <td>0.963333</td>\n",
       "    </tr>\n",
       "    <tr>\n",
       "      <th>312</th>\n",
       "      <td>0.429728</td>\n",
       "      <td>0.961667</td>\n",
       "    </tr>\n",
       "    <tr>\n",
       "      <th>310</th>\n",
       "      <td>0.442103</td>\n",
       "      <td>0.961667</td>\n",
       "    </tr>\n",
       "    <tr>\n",
       "      <th>309</th>\n",
       "      <td>0.462402</td>\n",
       "      <td>0.960000</td>\n",
       "    </tr>\n",
       "    <tr>\n",
       "      <th>303</th>\n",
       "      <td>0.539696</td>\n",
       "      <td>0.960000</td>\n",
       "    </tr>\n",
       "  </tbody>\n",
       "</table>\n",
       "</div>"
      ],
      "text/plain": [
       "     thresholds  accuracy\n",
       "311    0.430370  0.963333\n",
       "312    0.429728  0.961667\n",
       "310    0.442103  0.961667\n",
       "309    0.462402  0.960000\n",
       "303    0.539696  0.960000"
      ]
     },
     "execution_count": 23,
     "metadata": {},
     "output_type": "execute_result"
    }
   ],
   "source": [
    "from sklearn.metrics import accuracy_score\n",
    "accuracy_ls = []\n",
    "for thres in thresholds:\n",
    "    y_pred = np.where(final_prediction>thres,1,0)\n",
    "    accuracy_ls.append(accuracy_score(y_test, y_pred, normalize=True))\n",
    "    \n",
    "accuracy_ls = pd.concat([pd.Series(thresholds), pd.Series(accuracy_ls)],\n",
    "                        axis=1)\n",
    "accuracy_ls.columns = ['thresholds', 'accuracy']\n",
    "accuracy_ls.sort_values(by='accuracy', ascending=False, inplace=True)\n",
    "accuracy_ls.head()"
   ]
  },
  {
   "cell_type": "code",
   "execution_count": 29,
   "metadata": {},
   "outputs": [
    {
     "data": {
      "text/plain": [
       "0.44700601746765034"
      ]
     },
     "execution_count": 29,
     "metadata": {},
     "output_type": "execute_result"
    }
   ],
   "source": [
    "thresholds[311] #gives the highest accuracy for this threshold"
   ]
  },
  {
   "cell_type": "code",
   "execution_count": 24,
   "metadata": {},
   "outputs": [],
   "source": [
    "def plot_roc_curve(fpr, tpr):\n",
    "    plt.plot(fpr, tpr, color='orange', label='ROC')\n",
    "    plt.plot([0, 1], [0, 1], color='darkblue', linestyle='--')\n",
    "    plt.xlabel('False Positive Rate')\n",
    "    plt.ylabel('True Positive Rate')\n",
    "    plt.title('Receiver Operating Characteristic (ROC) Curve')\n",
    "    plt.legend()\n",
    "    plt.show()"
   ]
  },
  {
   "cell_type": "code",
   "execution_count": 25,
   "metadata": {},
   "outputs": [
    {
     "data": {
      "image/png": "[encoded data removed]",
      "text/plain": [
       "<Figure size 432x288 with 1 Axes>"
      ]
     },
     "metadata": {
      "needs_background": "light"
     },
     "output_type": "display_data"
    }
   ],
   "source": [
    "plot_roc_curve(fpr,tpr)"
   ]
  },
  {
   "cell_type": "code",
   "execution_count": 32,
   "metadata": {},
   "outputs": [
    {
     "data": {
      "text/plain": [
       "601"
      ]
     },
     "execution_count": 32,
     "metadata": {},
     "output_type": "execute_result"
    }
   ],
   "source": [
    "len(thresholds)"
   ]
  },
  {
   "cell_type": "code",
   "execution_count": 33,
   "metadata": {},
   "outputs": [
    {
     "data": {
      "text/plain": [
       "(601, 2)"
      ]
     },
     "execution_count": 33,
     "metadata": {},
     "output_type": "execute_result"
    }
   ],
   "source": [
    "accuracy_ls.shape"
   ]
  },
  {
   "cell_type": "code",
   "execution_count": null,
   "metadata": {},
   "outputs": [],
   "source": []
  }
 ],
 "metadata": {
  "kernelspec": {
   "display_name": "Python 3",
   "language": "python",
   "name": "python3"
  },
  "language_info": {
   "codemirror_mode": {
    "name": "ipython",
    "version": 3
   },
   "file_extension": ".py",
   "mimetype": "text/x-python",
   "name": "python",
   "nbconvert_exporter": "python",
   "pygments_lexer": "ipython3",
   "version": "3.8.3"
  }
 },
 "nbformat": 4,
 "nbformat_minor": 4
}
